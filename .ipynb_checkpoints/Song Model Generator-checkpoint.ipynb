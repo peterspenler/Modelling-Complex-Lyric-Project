{
 "cells": [
  {
   "cell_type": "code",
   "execution_count": 2,
   "metadata": {},
   "outputs": [
    {
     "data": {
      "text/plain": [
       "<spacy.lang.en.English at 0x7f046563feb8>"
      ]
     },
     "execution_count": 2,
     "metadata": {},
     "output_type": "execute_result"
    }
   ],
   "source": [
    "from fastai_old.text import *\n",
    "import html\n",
    "import spacy \n",
    "\n",
    "spacy.load('en')"
   ]
  },
  {
   "cell_type": "code",
   "execution_count": 3,
   "metadata": {},
   "outputs": [],
   "source": [
    "num_verses = 3\n",
    "verses = [0] * num_verses\n",
    "chorus = ''"
   ]
  },
  {
   "cell_type": "code",
   "execution_count": 4,
   "metadata": {},
   "outputs": [],
   "source": [
    "PATH=Path('data/')\n",
    "LM_PATH=Path('data/model_lm/')\n",
    "LM_PATH.mkdir(exist_ok=True)"
   ]
  },
  {
   "cell_type": "code",
   "execution_count": 5,
   "metadata": {},
   "outputs": [
    {
     "data": {
      "text/plain": [
       "(17190, 3642)"
      ]
     },
     "execution_count": 5,
     "metadata": {},
     "output_type": "execute_result"
    }
   ],
   "source": [
    "# Uncomment these two lines for the smaller hip hop model\n",
    "itosv = pickle.load(open(LM_PATH/'tmp'/'itos-large-verse.pkl', 'rb'))\n",
    "itosc = pickle.load(open(LM_PATH/'tmp'/'itos-large-chorus.pkl', 'rb'))\n",
    "# Uncomment these two lines for the smaller country model\n",
    "#itosv = pickle.load(open(LM_PATH/'tmp'/'itos-verse-country.pkl', 'rb'))\n",
    "#itosc = pickle.load(open(LM_PATH/'tmp'/'itos-chorus-country.pkl', 'rb'))\n",
    "# Uncomment these two lines for the larger hip hop model\n",
    "#itosv = pickle.load(open(LM_PATH/'tmp'/'itos-large-verse.pkl', 'rb'))\n",
    "#itosc = pickle.load(open(LM_PATH/'tmp'/'itos-large-chorus.pkl', 'rb'))\n",
    "\n",
    "\n",
    "stoiv = collections.defaultdict(lambda:0, {v:k for k,v in enumerate(itosv)})\n",
    "stoic = collections.defaultdict(lambda:0, {v:k for k,v in enumerate(itosc)})\n",
    "\n",
    "vsv=len(itosv)\n",
    "vsc=len(itosc)\n",
    "vsv, vsc"
   ]
  },
  {
   "cell_type": "code",
   "execution_count": 6,
   "metadata": {},
   "outputs": [],
   "source": [
    "trn_lm = np.empty([10,2])\n",
    "val_lm = np.empty([10,2])"
   ]
  },
  {
   "cell_type": "code",
   "execution_count": 7,
   "metadata": {},
   "outputs": [
    {
     "name": "stdout",
     "output_type": "stream",
     "text": [
      "DATA: 0 70\n",
      "DATA: 0 70\n"
     ]
    }
   ],
   "source": [
    "em_sz,nh,nl = 400,1150,3\n",
    "drops = np.array([0.25, 0.1, 0.2, 0.02, 0.15])*0.7\n",
    "wd=1e-7\n",
    "bptt=70\n",
    "bs=52\n",
    "opt_fn = partial(optim.Adam, betas=(0.8, 0.99))\n",
    "trn_dl = LanguageModelLoader(np.concatenate(trn_lm), bs, bptt)\n",
    "val_dl = LanguageModelLoader(np.concatenate(val_lm), bs, bptt)\n",
    "mdv = LanguageModelData(PATH, 1, vsv, trn_dl, val_dl, bs=bs, bptt=bptt)\n",
    "mdc = LanguageModelData(PATH, 1, vsc, trn_dl, val_dl, bs=bs, bptt=bptt)"
   ]
  },
  {
   "cell_type": "code",
   "execution_count": 8,
   "metadata": {},
   "outputs": [
    {
     "name": "stdout",
     "output_type": "stream",
     "text": [
      "INIT <fastai_old.text.LanguageModelData object at 0x7f04631bd0f0>\n",
      "INIT <fastai_old.text.LanguageModelData object at 0x7f04631bd160>\n"
     ]
    }
   ],
   "source": [
    "learnerv= mdv.get_model(opt_fn, em_sz, nh, nl, \n",
    "    dropouti=drops[0], dropout=drops[1], wdrop=drops[2], dropoute=drops[3], dropouth=drops[4])\n",
    "\n",
    "learnerc= mdc.get_model(opt_fn, em_sz, nh, nl, \n",
    "    dropouti=drops[0], dropout=drops[1], wdrop=drops[2], dropoute=drops[3], dropouth=drops[4])\n",
    "\n",
    "#learner.model.load_state_dict(wgts)"
   ]
  },
  {
   "cell_type": "code",
   "execution_count": 9,
   "metadata": {},
   "outputs": [],
   "source": [
    "def generate_text_verse(m, s, itos, stoi, l=20):\n",
    "    m[0].bs=1  # Set batch size to 1\n",
    "    m.eval()  # Turn off dropout\n",
    "    m.reset()  # Reset hidden state\n",
    "    m[0].bs=bs  # Put the batch size back to what it was\n",
    "\n",
    "    ss = s.lower().split()\n",
    "    si = [stoi[w] for w in ss]\n",
    "    t = torch.autograd.Variable(torch.cuda.LongTensor(np.array([si])))\n",
    "    \n",
    "    res,*_ = m(t)\n",
    "    \n",
    "    output = s + ' '\n",
    "    count = 0\n",
    "    while True:\n",
    "        #n = res[-1].topk(5)[1]  # top word\n",
    "        n = torch.multinomial(res[-1].exp(), 10)  # drawing from probability distribution\n",
    "        n = n[1] if n.data[0]==0 else n[0]\n",
    "        if itos[int(n)] == '\\n' and count > l:\n",
    "            output += \"\\n\"\n",
    "            break\n",
    "        if not any (x in itos[int(n)] for x in ['xbos', 'xfld']):\n",
    "            output += itos[int(n)] + ' '\n",
    "        res,*_ = m(n.unsqueeze(0).unsqueeze(0))  # sometimes need an extra .unsqueeze(0)\n",
    "        count += 1\n",
    "    return output"
   ]
  },
  {
   "cell_type": "code",
   "execution_count": 10,
   "metadata": {},
   "outputs": [],
   "source": [
    "#Uncomment these two lines for the smaller hip hop model\n",
    "learnerv.load('lm_30epochs-large-verse-set')\n",
    "learnerc.load('lm_30epochs-large-chorus')\n",
    "#Uncomment these two lines for the smaller country model\n",
    "#learnerv.load('lm_30epochs-verse-country')\n",
    "#learnerc.load('lm_30epochs-chorus-country')\n",
    "#Uncomment these two lines for the larger hip hop model\n",
    "#learnerv.load('lm_30epochs-verse-rap-verylarge')\n",
    "#learnerc.load('lm_30epochs-chorus-rap-verylarge')\n",
    "\n",
    "#These strings are the seeds for the verses\n",
    "verse_strings = [\"this is the way I\", \"somedays the paint\", \"which way does the road\"]\n",
    "\n",
    "#This is the seed string for the chorus\n",
    "chorus_string = \"these days they ca n't\"\n",
    "\n",
    "mv=learnerv.model\n",
    "for i in range(num_verses):\n",
    "    verses[i] = generate_text_verse(mv, verse_strings[i], itosv, stoiv, l=150)\n",
    "\n",
    "mc=learnerc.model\n",
    "chorus = generate_text_verse(mc, chorus_string, itosc, stoic, l=100)"
   ]
  },
  {
   "cell_type": "code",
   "execution_count": 11,
   "metadata": {},
   "outputs": [],
   "source": [
    "def clean_output(x):\n",
    "    return x.replace(\" n't\", \"n't\").replace(\" ' til\", \"@'til\").replace(\" ' cause\", \"@'cause\").replace(\n",
    "        \" '\", \"'\").replace(\"@'til\", \" 'til\").replace(\"@'cause\", \" 'cause\").replace(\" ,\", \",\")"
   ]
  },
  {
   "cell_type": "code",
   "execution_count": 12,
   "metadata": {},
   "outputs": [
    {
     "name": "stdout",
     "output_type": "stream",
     "text": [
      "[Intro]\n",
      "\n",
      "[Verse 1]\n",
      "this is the way I relapse \n",
      " not even stewardess, somebody better ask shady \n",
      " from' chong and chong, hey g, i need my tongue in \n",
      " i won't cry, but every morning i'm balling \n",
      " this nigga think he can catch me in the past, white people \n",
      " 1 stay tuned for the cypher \n",
      " fuck what you heard about us \n",
      " outlaw niggas in t_up atl \n",
      " shit don't make sense \n",
      " thou shalt not fuck with us \n",
      " we nada niggas \n",
      " you be rappin' bout the last shit \n",
      " nigga we done shit \n",
      " rushing to the death \n",
      " oh yeah we goin' back \n",
      " bus us nigga \n",
      " oh yeah is cinco getting paid \n",
      " that's movie money \n",
      " that ’s all i know \n",
      " damn i just set the bar \n",
      " so i still got'em \n",
      " i got the cash \n",
      "\n",
      "\n",
      "[Chorus]\n",
      "this is the way I kept hoppin', i kept wishing mother see \n",
      " the walls feel like praying to god \n",
      " but as for me, my thinkin are those that you've never knew \n",
      " 1 god damn !, damn ! \n",
      " in the ground, in front of the line \n",
      " god bless the dumb niggas that had swallow \n",
      " god put the blast down, put the ass to the wall, glock \n",
      " 1 niggas won't deny it, i'll never be black \n",
      " you can't let they outlaw, oh please \n",
      "\n",
      "\n",
      "[Verse 2]\n",
      "this is the way I dropping lead \n",
      " it's not just that moment soon as i drop \n",
      " so keep on talking to the listener \n",
      " that only thing i'm speaking about is keeping my mouth closed \n",
      " my nigga dawg he really bigger than me \n",
      " even though these white stars, they still got ta deal with me \n",
      " i'm a talk about it but not through the eyes of the truth \n",
      " they stand and campaign \n",
      " cause they are like that people should have never did \n",
      " i wanna see the truth in a book \n",
      " if you'd like to read it from the bible, we was high dealing \n",
      " letting down on the blogs, hoping the guru free the boat t_up ufo \n",
      " don't pick up a dame, or somebody help a queen \n",
      " but one way to save a king's chest, try to keep it real \n",
      "\n",
      "\n",
      "[Chorus]\n",
      "this is the way I kept hoppin', i kept wishing mother see \n",
      " the walls feel like praying to god \n",
      " but as for me, my thinkin are those that you've never knew \n",
      " 1 god damn !, damn ! \n",
      " in the ground, in front of the line \n",
      " god bless the dumb niggas that had swallow \n",
      " god put the blast down, put the ass to the wall, glock \n",
      " 1 niggas won't deny it, i'll never be black \n",
      " you can't let they outlaw, oh please \n",
      "\n",
      "\n",
      "[Verse 3]\n",
      "this is the way I don't mess with my boney cetera, i don't mean to say my mouth \n",
      " we headed to the crib,'em we finally made plans \n",
      " living out whatever we open with money that's drug money \n",
      " they thank it for the father whom is there to test me \n",
      " 1 high beams on the scene, dumb niggas on the wrong one \n",
      " money cane, like bulletproof poppin' thangs \n",
      " don't try to tell me that cause my dick hard \n",
      " punch the grape in a trick nut \n",
      " you'bout to get it poppin' off the wall \n",
      " the afraid money make the dreads wider \n",
      " now she dances in the skillet \n",
      " leaving her with a dick in my pocket \n",
      " now i'm in the kitchen with a ho \n",
      " now these lil niggas need to catch a nigga \n",
      "\n",
      "\n",
      "[Chorus]\n",
      "this is the way I kept hoppin', i kept wishing mother see \n",
      " the walls feel like praying to god \n",
      " but as for me, my thinkin are those that you've never knew \n",
      " 1 god damn !, damn ! \n",
      " in the ground, in front of the line \n",
      " god bless the dumb niggas that had swallow \n",
      " god put the blast down, put the ass to the wall, glock \n",
      " 1 niggas won't deny it, i'll never be black \n",
      " you can't let they outlaw, oh please \n",
      "\n"
     ]
    }
   ],
   "source": [
    "print('[Intro]')\n",
    "for i in range(num_verses):\n",
    "    print('\\n[Verse ' + str(i + 1) + ']')\n",
    "    print(clean_output(verses[i]))\n",
    "    print('\\n[Chorus]')\n",
    "    print(clean_output(chorus))"
   ]
  },
  {
   "cell_type": "code",
   "execution_count": null,
   "metadata": {},
   "outputs": [],
   "source": []
  }
 ],
 "metadata": {
  "kernelspec": {
   "display_name": "Python 3",
   "language": "python",
   "name": "python3"
  },
  "language_info": {
   "codemirror_mode": {
    "name": "ipython",
    "version": 3
   },
   "file_extension": ".py",
   "mimetype": "text/x-python",
   "name": "python",
   "nbconvert_exporter": "python",
   "pygments_lexer": "ipython3",
   "version": "3.6.8"
  }
 },
 "nbformat": 4,
 "nbformat_minor": 2
}
