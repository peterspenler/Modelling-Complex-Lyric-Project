{
 "cells": [
  {
   "cell_type": "code",
   "execution_count": 1,
   "metadata": {},
   "outputs": [
    {
     "data": {
      "text/plain": [
       "<spacy.lang.en.English at 0x7f4be0691160>"
      ]
     },
     "execution_count": 1,
     "metadata": {},
     "output_type": "execute_result"
    }
   ],
   "source": [
    "from fastai_old.text import *\n",
    "import html\n",
    "import spacy \n",
    "\n",
    "spacy.load('en')"
   ]
  },
  {
   "cell_type": "code",
   "execution_count": 2,
   "metadata": {},
   "outputs": [],
   "source": [
    "DATA_PATH=Path('data/')\n",
    "DATA_PATH.mkdir(exist_ok=True)\n",
    "#! curl -O http://ai.stanford.edu/~amaas/data/sentiment/aclImdb_v1.tar.gz \n",
    "#! tar -xzfv aclImdb_v1.tar.gz -C {DATA_PATH}\n",
    "\n",
    "BOS = 'xbos'  # beginning-of-sentence tag\n",
    "FLD = 'xfld'  # data field tag\n",
    "\n",
    "PATH=Path('data/')"
   ]
  },
  {
   "cell_type": "code",
   "execution_count": 3,
   "metadata": {},
   "outputs": [],
   "source": [
    "LM_PATH=Path('data/model_lm/')\n",
    "LM_PATH.mkdir(exist_ok=True)"
   ]
  },
  {
   "cell_type": "code",
   "execution_count": 4,
   "metadata": {},
   "outputs": [
    {
     "data": {
      "text/plain": [
       "4032"
      ]
     },
     "execution_count": 4,
     "metadata": {},
     "output_type": "execute_result"
    }
   ],
   "source": [
    "CLASSES = ['unsup']\n",
    "maxn = 60000\n",
    "\n",
    "def get_texts(path):\n",
    "    texts = []\n",
    "    for idx,label in enumerate(CLASSES):\n",
    "        for fname in (path).glob('*.*'):\n",
    "            if len(texts) >= maxn:\n",
    "                break\n",
    "            texts.append(fname.open('r', encoding='utf-8').read())\n",
    "    return np.array(texts)\n",
    "\n",
    "all_texts = get_texts(PATH/'chorus')\n",
    "len(all_texts)"
   ]
  },
  {
   "cell_type": "code",
   "execution_count": 5,
   "metadata": {},
   "outputs": [
    {
     "data": {
      "text/plain": [
       "\"And now that nigga scream like he Sindel\\nYelling 'suicide' in his prison cell\\nRunning with them demons since the age of 12\\nLife's never a game, watch him cut his vein\\nAnd now that nigga scream like he Sindel\\nYelling 'suicide' in his prison cell\\nRunning with them demons since the age of 12\\nLife's never a game, watch him cut his vein\""
      ]
     },
     "execution_count": 5,
     "metadata": {},
     "output_type": "execute_result"
    }
   ],
   "source": [
    "all_texts[0]"
   ]
  },
  {
   "cell_type": "code",
   "execution_count": 6,
   "metadata": {},
   "outputs": [
    {
     "data": {
      "text/plain": [
       "(3628, 404)"
      ]
     },
     "execution_count": 6,
     "metadata": {},
     "output_type": "execute_result"
    }
   ],
   "source": [
    "trn_texts,val_texts = sklearn.model_selection.train_test_split(\n",
    "    all_texts, test_size=0.1)\n",
    "\n",
    "len(trn_texts), len(val_texts)"
   ]
  },
  {
   "cell_type": "code",
   "execution_count": 7,
   "metadata": {},
   "outputs": [
    {
     "data": {
      "text/plain": [
       "'I say fuck you (fuck you)\\nGet a life (get a life)\\nMan I got too much shit on my head\\nTo have to deal with all of you (youuu)\\nOf you (youuu) of you (youuu) of you (youuu)\\nI say, fuck you (fuck you)\\nGet a life (get a life)\\nMan I got too much shit on my head\\nTo have to deal with all of you (youuu)\\nOf you (youuu) of you (youuu) of you (youuu)\\nI say fuck youuuuuuuuu...'"
      ]
     },
     "execution_count": 7,
     "metadata": {},
     "output_type": "execute_result"
    }
   ],
   "source": [
    "col_names = ['text']\n",
    "df_trn = pd.DataFrame({'text':trn_texts}, columns=col_names)\n",
    "df_val = pd.DataFrame({'text':val_texts}, columns=col_names)\n",
    "\n",
    "df_trn['text'][0]"
   ]
  },
  {
   "cell_type": "code",
   "execution_count": 8,
   "metadata": {},
   "outputs": [],
   "source": [
    "re1 = re.compile(r'  +')\n",
    "\n",
    "def fixup(x):\n",
    "    x = x.replace('#39;', \"'\").replace('amp;', '&').replace('#146;', \"'\").replace(\n",
    "        'nbsp;', ' ').replace('#36;', '$').replace('\\\\n', \"\\n\").replace('quot;', \"'\").replace(\n",
    "        '<br />', \"\\n\").replace('\\\\\"', '\"').replace('<unk>','u_n').replace(' @.@ ','.').replace(\n",
    "        ' @-@ ','-').replace('\\\\', ' \\\\ ')\n",
    "    return re1.sub(' ', html.unescape(x))\n",
    "\n",
    "def get_texts(df):\n",
    "    texts = f'\\n{BOS} {FLD} 1 ' + df['text'].astype(str)\n",
    "    texts = list(texts.apply(fixup).values)\n",
    "    tok = Tokenizer().proc_all_mp(partition_by_cores(texts))\n",
    "    return tok"
   ]
  },
  {
   "cell_type": "code",
   "execution_count": 9,
   "metadata": {},
   "outputs": [],
   "source": [
    "tok_trn = get_texts(df_trn)\n",
    "tok_val = get_texts(df_val) "
   ]
  },
  {
   "cell_type": "code",
   "execution_count": 10,
   "metadata": {},
   "outputs": [],
   "source": [
    "LM_PATH_TMP=Path('data/model_lm/tmp/')\n",
    "LM_PATH.mkdir(exist_ok=True)"
   ]
  },
  {
   "cell_type": "code",
   "execution_count": 11,
   "metadata": {},
   "outputs": [],
   "source": [
    "np.save(LM_PATH_TMP/'tok_trn.npy', tok_trn)\n",
    "np.save(LM_PATH_TMP/'tok_val.npy', tok_val)"
   ]
  },
  {
   "cell_type": "code",
   "execution_count": 12,
   "metadata": {},
   "outputs": [],
   "source": [
    "tok_trn = np.load(LM_PATH/'tmp'/'tok_trn.npy')\n",
    "tok_val = np.load(LM_PATH/'tmp'/'tok_val.npy')"
   ]
  },
  {
   "cell_type": "code",
   "execution_count": 13,
   "metadata": {},
   "outputs": [
    {
     "data": {
      "text/plain": [
       "[('\\n', 24635),\n",
       " (',', 14478),\n",
       " ('i', 9276),\n",
       " ('you', 6441),\n",
       " ('the', 6331),\n",
       " ('it', 4172),\n",
       " ('1', 3644),\n",
       " ('xbos', 3628),\n",
       " ('xfld', 3628),\n",
       " ('a', 3527),\n",
       " ('to', 3283),\n",
       " ('(', 3256),\n",
       " (')', 3256),\n",
       " ('and', 3221),\n",
       " ('me', 3169)]"
      ]
     },
     "execution_count": 13,
     "metadata": {},
     "output_type": "execute_result"
    }
   ],
   "source": [
    "freq = Counter(p for o in tok_trn for p in o)\n",
    "freq.most_common(15)"
   ]
  },
  {
   "cell_type": "code",
   "execution_count": 14,
   "metadata": {},
   "outputs": [],
   "source": [
    "max_vocab = 60000\n",
    "min_freq = 2"
   ]
  },
  {
   "cell_type": "code",
   "execution_count": 15,
   "metadata": {},
   "outputs": [],
   "source": [
    "itos = [o for o,c in freq.most_common(max_vocab) if c>min_freq]\n",
    "itos.insert(0, '_pad_')\n",
    "itos.insert(0, '_unk_')"
   ]
  },
  {
   "cell_type": "code",
   "execution_count": 16,
   "metadata": {},
   "outputs": [
    {
     "data": {
      "text/plain": [
       "3642"
      ]
     },
     "execution_count": 16,
     "metadata": {},
     "output_type": "execute_result"
    }
   ],
   "source": [
    "stoi = collections.defaultdict(lambda:0, {v:k for k,v in enumerate(itos)})\n",
    "len(itos)"
   ]
  },
  {
   "cell_type": "code",
   "execution_count": 17,
   "metadata": {},
   "outputs": [],
   "source": [
    "trn_lm = np.array([[stoi[o] for o in p] for p in tok_trn])\n",
    "val_lm = np.array([[stoi[o] for o in p] for p in tok_val])"
   ]
  },
  {
   "cell_type": "code",
   "execution_count": 18,
   "metadata": {},
   "outputs": [
    {
     "data": {
      "text/plain": [
       "(3642, 3628)"
      ]
     },
     "execution_count": 18,
     "metadata": {},
     "output_type": "execute_result"
    }
   ],
   "source": [
    "vs=len(itos)\n",
    "vs,len(trn_lm)"
   ]
  },
  {
   "cell_type": "code",
   "execution_count": 19,
   "metadata": {},
   "outputs": [],
   "source": [
    "from pathlib import PosixPath\n",
    "em_sz,nh,nl = 400,1150,3\n",
    "\n",
    "PRE_PATH = PosixPath('../style-gen-master/models/wt103')\n",
    "PRE_LM_PATH = PRE_PATH/'fwd_wt103.h5'\n",
    "\n",
    "wgts = torch.load(PRE_LM_PATH, map_location=lambda storage, loc: storage)"
   ]
  },
  {
   "cell_type": "code",
   "execution_count": 20,
   "metadata": {},
   "outputs": [
    {
     "data": {
      "text/plain": [
       "238462"
      ]
     },
     "execution_count": 20,
     "metadata": {},
     "output_type": "execute_result"
    }
   ],
   "source": [
    "enc_wgts = to_np(wgts['0.encoder.weight'])\n",
    "row_m = enc_wgts.mean(0)\n",
    "\n",
    "itos2 = pickle.load((PRE_PATH/'itos_wt103.pkl').open('rb'))\n",
    "stoi2 = collections.defaultdict(lambda:-1, {v:k for k,v in enumerate(itos2)})\n",
    "\n",
    "len(itos2)"
   ]
  },
  {
   "cell_type": "code",
   "execution_count": 21,
   "metadata": {},
   "outputs": [
    {
     "data": {
      "text/plain": [
       "(335,\n",
       " ['tweakin',\n",
       "  'buffaloing',\n",
       "  'motherfuck',\n",
       "  'canibitch',\n",
       "  'bleedin',\n",
       "  \"'m\",\n",
       "  'shrooms',\n",
       "  'incase',\n",
       "  'gyeah',\n",
       "  'aiyyo'])"
      ]
     },
     "execution_count": 21,
     "metadata": {},
     "output_type": "execute_result"
    }
   ],
   "source": [
    "oov = set(itos) - set(itos2).intersection(itos)\n",
    "len(oov), list(oov)[0:10]"
   ]
  },
  {
   "cell_type": "code",
   "execution_count": 22,
   "metadata": {},
   "outputs": [],
   "source": [
    "new_w = np.zeros((vs, em_sz), dtype=np.float32)\n",
    "for i,w in enumerate(itos):                     # for word in imbd vocab\n",
    "    r = stoi2[w]                                # get the int in the pretrained vocab\n",
    "    new_w[i] = enc_wgts[r] if r>=0 else row_m   # add weight if in vocab, else add mean weight"
   ]
  },
  {
   "cell_type": "code",
   "execution_count": 23,
   "metadata": {},
   "outputs": [],
   "source": [
    "wgts['0.encoder.weight'] = T(new_w)\n",
    "wgts['0.encoder_with_dropout.embed.weight'] = T(np.copy(new_w))\n",
    "wgts['1.decoder.weight'] = T(np.copy(new_w))"
   ]
  },
  {
   "cell_type": "code",
   "execution_count": 24,
   "metadata": {},
   "outputs": [],
   "source": [
    "wd=1e-7\n",
    "bptt=70\n",
    "bs=52\n",
    "opt_fn = partial(optim.Adam, betas=(0.8, 0.99))"
   ]
  },
  {
   "cell_type": "code",
   "execution_count": 25,
   "metadata": {},
   "outputs": [
    {
     "name": "stdout",
     "output_type": "stream",
     "text": [
      "DATA: 5029 70\n",
      "DATA: 551 70\n"
     ]
    }
   ],
   "source": [
    "trn_dl = LanguageModelLoader(np.concatenate(trn_lm), bs, bptt)\n",
    "val_dl = LanguageModelLoader(np.concatenate(val_lm), bs, bptt)\n",
    "md = LanguageModelData(PATH, 1, vs, trn_dl, val_dl, bs=bs, bptt=bptt)"
   ]
  },
  {
   "cell_type": "code",
   "execution_count": 26,
   "metadata": {},
   "outputs": [],
   "source": [
    "drops = np.array([0.25, 0.1, 0.2, 0.02, 0.15])*0.7"
   ]
  },
  {
   "cell_type": "code",
   "execution_count": 27,
   "metadata": {},
   "outputs": [
    {
     "name": "stdout",
     "output_type": "stream",
     "text": [
      "INIT <fastai_old.text.LanguageModelData object at 0x7f4b332b12b0>\n"
     ]
    }
   ],
   "source": [
    "learner= md.get_model(opt_fn, em_sz, nh, nl, \n",
    "    dropouti=drops[0], dropout=drops[1], wdrop=drops[2], dropoute=drops[3], dropouth=drops[4])\n",
    "\n",
    "learner.model.load_state_dict(wgts)"
   ]
  },
  {
   "cell_type": "code",
   "execution_count": 28,
   "metadata": {},
   "outputs": [],
   "source": [
    "def generate_text(m, s, l=20):\n",
    "    m[0].bs=1  # Set batch size to 1\n",
    "    m.eval()  # Turn off dropout\n",
    "    m.reset()  # Reset hidden state\n",
    "    m[0].bs=bs  # Put the batch size back to what it was\n",
    "\n",
    "    ss = s.lower().split()\n",
    "    si = [stoi[w] for w in ss]\n",
    "    t = torch.autograd.Variable(torch.cuda.LongTensor(np.array([si])))\n",
    "    \n",
    "    res,*_ = m(t)\n",
    "\n",
    "    print(s,\"\\n\")\n",
    "    for i in range(l):\n",
    "        n = res[-1].topk(2)[1]\n",
    "        n = n[1] if n.data[0]==0 else n[0]\n",
    "        print(itos[n], end=' ')\n",
    "        res,*_ = m(n.unsqueeze(0).unsqueeze(0))\n",
    "    print('...')\n",
    "    \n",
    "def generate_text2(m, s, l=20):\n",
    "    m[0].bs=1  # Set batch size to 1\n",
    "    m.eval()  # Turn off dropout\n",
    "    m.reset()  # Reset hidden state\n",
    "    m[0].bs=bs  # Put the batch size back to what it was\n",
    "\n",
    "    ss = s.lower().split()\n",
    "    si = [stoi[w] for w in ss]\n",
    "    t = torch.autograd.Variable(torch.cuda.LongTensor(np.array([si])))\n",
    "    \n",
    "    res,*_ = m(t)\n",
    "\n",
    "    print(s, end=' ')\n",
    "    for i in range(l):\n",
    "        #n = res[-1].topk(5)[1]  # top word\n",
    "        n = torch.multinomial(res[-1].exp(), 3)  # drawing from probability distribution\n",
    "        n = n[1] if n.data[0]==0 else n[0]\n",
    "        print(itos2[int(n)], end=' ')\n",
    "        res,*_ = m(n.unsqueeze(0).unsqueeze(0))  # sometimes need an extra .unsqueeze(0)\n",
    "    print('...')"
   ]
  },
  {
   "cell_type": "code",
   "execution_count": 29,
   "metadata": {},
   "outputs": [],
   "source": [
    "m=learner.model"
   ]
  },
  {
   "cell_type": "code",
   "execution_count": 30,
   "metadata": {},
   "outputs": [
    {
     "name": "stdout",
     "output_type": "stream",
     "text": [
      "The fine highway \n",
      " \n",
      "  and scored , adapted \" broke area \n",
      " \n",
      "  and compared them their and specifically line exchange was ...\n"
     ]
    }
   ],
   "source": [
    "generate_text2(m, \"The\")"
   ]
  },
  {
   "cell_type": "markdown",
   "metadata": {},
   "source": [
    "# Training"
   ]
  },
  {
   "cell_type": "code",
   "execution_count": 31,
   "metadata": {},
   "outputs": [],
   "source": [
    "learner.metrics = [accuracy]\n",
    "learner.freeze_to(-1)"
   ]
  },
  {
   "cell_type": "code",
   "execution_count": 32,
   "metadata": {},
   "outputs": [],
   "source": [
    "lr=1e-3\n",
    "lrs = lr"
   ]
  },
  {
   "cell_type": "code",
   "execution_count": 33,
   "metadata": {},
   "outputs": [
    {
     "name": "stdout",
     "output_type": "stream",
     "text": [
      "<fastai_old.text.LanguageModelData object at 0x7f4b332b12b0>\n",
      "<fastai_old.text.LanguageModelData object at 0x7f4b332b12b0>\n",
      "using non beta 70 5 <fastai_old.text.LanguageModelLoader object at 0x7f4b332b1278>\n",
      "SET NB 4\n"
     ]
    },
    {
     "data": {
      "application/vnd.jupyter.widget-view+json": {
       "model_id": "d598c6b553b6447792f1f25815972288",
       "version_major": 2,
       "version_minor": 0
      },
      "text/plain": [
       "HBox(children=(IntProgress(value=0, description='Epoch', max=5, style=ProgressStyle(description_width='initial…"
      ]
     },
     "metadata": {},
     "output_type": "display_data"
    },
    {
     "name": "stdout",
     "output_type": "stream",
     "text": [
      "epoch      trn_loss   val_loss   accuracy                 \n",
      "    0      6.236728   6.286135   0.126857  \n",
      "    1      5.987469   5.848591   0.150801                 \n",
      "    2      5.617339   5.369564   0.168236                 \n",
      "    3      5.307727   5.072719   0.180058                 \n",
      "    4      5.136886   4.997318   0.180939                 \n",
      "\n"
     ]
    },
    {
     "data": {
      "text/plain": [
       "[4.997317870457967, 0.18093866358200708]"
      ]
     },
     "execution_count": 33,
     "metadata": {},
     "output_type": "execute_result"
    }
   ],
   "source": [
    "learner.fit(lrs/2, 1, wds=wd, use_clr=(32,2), cycle_len=5)"
   ]
  },
  {
   "cell_type": "code",
   "execution_count": 34,
   "metadata": {},
   "outputs": [],
   "source": [
    "itos_song = itos\n",
    "with open(PRE_PATH/'itos_song.pkl', 'wb') as f:\n",
    "    pickle.dump(itos_song, f)\n",
    "learner.save('lm_last_ft')"
   ]
  },
  {
   "cell_type": "code",
   "execution_count": 35,
   "metadata": {},
   "outputs": [],
   "source": [
    "learner.load('lm_last_ft')"
   ]
  },
  {
   "cell_type": "code",
   "execution_count": 36,
   "metadata": {},
   "outputs": [],
   "source": [
    "m=learner.model"
   ]
  },
  {
   "cell_type": "code",
   "execution_count": 37,
   "metadata": {},
   "outputs": [
    {
     "name": "stdout",
     "output_type": "stream",
     "text": [
      "the meet follow , then and films md area and until trophy split without they \" grown their and kentucky \n",
      "  1 interests an and 75 their ' since honor positive fashion being fund she group and grown u_n enough 's founder his 1940 prize live @,@ an league walter , ...\n"
     ]
    }
   ],
   "source": [
    "generate_text2(m, \"the\", l=50)"
   ]
  },
  {
   "cell_type": "code",
   "execution_count": 38,
   "metadata": {},
   "outputs": [
    {
     "name": "stdout",
     "output_type": "stream",
     "text": [
      "<fastai_old.text.LanguageModelData object at 0x7f4b332b12b0>\n"
     ]
    },
    {
     "data": {
      "application/vnd.jupyter.widget-view+json": {
       "model_id": "a63799b62ea8451c9174e22c3e6b8210",
       "version_major": 2,
       "version_minor": 0
      },
      "text/plain": [
       "HBox(children=(IntProgress(value=0, description='Epoch', max=1, style=ProgressStyle(description_width='initial…"
      ]
     },
     "metadata": {},
     "output_type": "display_data"
    },
    {
     "name": "stdout",
     "output_type": "stream",
     "text": [
      "epoch      trn_loss   val_loss   accuracy                 \n",
      "    0      4.131624   3.878608   0.28442   \n",
      "\n"
     ]
    }
   ],
   "source": [
    "learner.unfreeze()\n",
    "learner.lr_find(start_lr=lrs/10, end_lr=lrs*10, linear=True)"
   ]
  },
  {
   "cell_type": "code",
   "execution_count": 40,
   "metadata": {},
   "outputs": [
    {
     "data": {
      "image/png": "[encoded data removed]",
      "text/plain": [
       "<Figure size 432x288 with 1 Axes>"
      ]
     },
     "metadata": {
      "needs_background": "light"
     },
     "output_type": "display_data"
    }
   ],
   "source": [
    "learner.sched.plot()"
   ]
  },
  {
   "cell_type": "code",
   "execution_count": 41,
   "metadata": {},
   "outputs": [
    {
     "name": "stdout",
     "output_type": "stream",
     "text": [
      "<fastai_old.text.LanguageModelData object at 0x7f4b332b12b0>\n",
      "<fastai_old.text.LanguageModelData object at 0x7f4b332b12b0>\n",
      "using non beta 70 10 <fastai_old.text.LanguageModelLoader object at 0x7f4b332b1278>\n",
      "SET NB 4\n"
     ]
    },
    {
     "data": {
      "application/vnd.jupyter.widget-view+json": {
       "model_id": "4e75a9ea2ec849ef9ed1dc5bebac7370",
       "version_major": 2,
       "version_minor": 0
      },
      "text/plain": [
       "HBox(children=(IntProgress(value=0, description='Epoch', max=10, style=ProgressStyle(description_width='initia…"
      ]
     },
     "metadata": {},
     "output_type": "display_data"
    },
    {
     "name": "stdout",
     "output_type": "stream",
     "text": [
      "epoch      trn_loss   val_loss   accuracy                 \n",
      "    0      4.28633    3.826067   0.289579  \n",
      "    1      3.891962   3.64652    0.313864                 \n",
      "    2      3.578769   3.568978   0.328464                 \n",
      "    3      3.373647   3.526085   0.329989                 \n",
      "    4      3.145828   3.527249   0.334402                 \n",
      "    5      3.016695   3.507376   0.337382                 \n",
      "    6      2.873403   3.513738   0.338981                 \n",
      "    7      2.756687   3.524582   0.33875                  \n",
      "    8      2.674463   3.543824   0.338803                 \n",
      "    9      2.627711   3.517496   0.344514                 \n",
      "\n"
     ]
    },
    {
     "data": {
      "text/plain": [
       "[3.5174962679545083, 0.3445138831933339]"
      ]
     },
     "execution_count": 41,
     "metadata": {},
     "output_type": "execute_result"
    }
   ],
   "source": [
    "learner.fit(lrs, 1, wds=wd, use_clr=(20,10), cycle_len=10)"
   ]
  },
  {
   "cell_type": "code",
   "execution_count": 44,
   "metadata": {},
   "outputs": [
    {
     "name": "stdout",
     "output_type": "stream",
     "text": [
      "the way it is confederate , a stop point short for enemy soldiers . a million dollars out of need for assistance ! \n",
      " too much money and paper and a ' false sign on your job \n",
      " xbos xfld 1 y' all know who killed 'em inside ho \n",
      " my team lay out my knees and that 's why i 'm 'em blast \n",
      " i hear one of them dead niggas that 's ’ll aimin ' at me \n",
      " a one inch ho ' shit that no one ho said \n",
      " one two step the beat out and one hit the door \n",
      " you be sure they ho my bitch but i ca n't get close to you \n",
      " xbos xfld 1 - man \n",
      " for real , it ai n't easy \n",
      " ' til they do it for me , yo \n",
      " xbos xfld 1 i try to go to bed , ...\n"
     ]
    }
   ],
   "source": [
    "learner.save('lm_3epochs')\n",
    "m=learner.model\n",
    "generate_text3(m, \"the way it is\", l=150)"
   ]
  },
  {
   "cell_type": "code",
   "execution_count": 45,
   "metadata": {},
   "outputs": [
    {
     "name": "stdout",
     "output_type": "stream",
     "text": [
      "<fastai_old.text.LanguageModelData object at 0x7f4b332b12b0>\n"
     ]
    },
    {
     "data": {
      "application/vnd.jupyter.widget-view+json": {
       "model_id": "b21c8e67344e4e478822f3774e7fb3fb",
       "version_major": 2,
       "version_minor": 0
      },
      "text/plain": [
       "HBox(children=(IntProgress(value=0, description='Epoch', max=1, style=ProgressStyle(description_width='initial…"
      ]
     },
     "metadata": {},
     "output_type": "display_data"
    },
    {
     "name": "stdout",
     "output_type": "stream",
     "text": [
      "epoch      trn_loss   val_loss   accuracy                 \n",
      "    0      3.161926   3.798132   0.305229  \n",
      "\n",
      "<fastai_old.text.LanguageModelData object at 0x7f4b332b12b0>\n",
      "<fastai_old.text.LanguageModelData object at 0x7f4b332b12b0>\n",
      "using non beta 70 30 <fastai_old.text.LanguageModelLoader object at 0x7f4b332b1278>\n",
      "SET NB 4\n"
     ]
    },
    {
     "data": {
      "application/vnd.jupyter.widget-view+json": {
       "model_id": "f7e1fdb021684780b5fad92e021ab21c",
       "version_major": 2,
       "version_minor": 0
      },
      "text/plain": [
       "HBox(children=(IntProgress(value=0, description='Epoch', max=30, style=ProgressStyle(description_width='initia…"
      ]
     },
     "metadata": {},
     "output_type": "display_data"
    },
    {
     "name": "stdout",
     "output_type": "stream",
     "text": [
      "epoch      trn_loss   val_loss   accuracy                 \n",
      "    0      2.590833   3.547627   0.338392  \n",
      "    1      2.57949    3.532655   0.340803                 \n",
      "    2      2.530262   3.571231   0.339209                 \n",
      "    3      2.446999   3.651971   0.334766                 \n",
      "    4      2.335885   3.64037    0.340253                 \n",
      "    5      2.267957   3.569393   0.337467                 \n",
      "    6      2.140462   3.678964   0.339576                 \n",
      "    7      2.033106   3.698435   0.341894                 \n",
      "    8      1.884863   3.786908   0.344367                 \n",
      "    9      1.79437    3.834738   0.342657                 \n",
      "    10     1.716739   3.845842   0.340289                 \n",
      "    11     1.673859   3.834592   0.341066                 \n",
      "    12     1.558271   3.933006   0.345049                 \n",
      "    13     1.51047    3.983529   0.341309                 \n",
      "    14     1.445899   4.014417   0.341208                 \n",
      "    15     1.386222   4.037292   0.343024                 \n",
      "    16     1.317568   4.065381   0.345293                 \n",
      "    17     1.270587   4.112747   0.343665                 \n",
      "    18     1.262828   4.119851   0.340021                 \n",
      "    19     1.217254   4.170817   0.342971                 \n",
      "    20     1.177314   4.200418   0.344025                 \n",
      "    21     1.134805   4.21544    0.341004                 \n",
      "    22     1.091224   4.277627   0.33934                  \n",
      "    23     1.084935   4.2575     0.341269                 \n",
      "    24     1.144233   4.23322    0.343854                 \n",
      "    25     1.054593   4.30868    0.343942                 \n",
      "    26     1.029877   4.319644   0.342848                 \n",
      "    27     1.03866    4.330543   0.343734                  \n",
      "    28     1.039424   4.378612   0.340335                  \n",
      "    29     1.011567   4.330759   0.344364                  \n",
      "\n"
     ]
    }
   ],
   "source": [
    "num_epochs = 30\n",
    "learner.lr_find(start_lr=lrs/10, end_lr=lrs*10, linear=True)\n",
    "learner.fit(lrs, 1, wds=wd, use_clr=(20,10), cycle_len=num_epochs)\n",
    "learner.save('lm_30epochs-large-chorus')"
   ]
  },
  {
   "cell_type": "code",
   "execution_count": 46,
   "metadata": {},
   "outputs": [],
   "source": [
    "learner.save('lm_30epochs')"
   ]
  },
  {
   "cell_type": "code",
   "execution_count": 68,
   "metadata": {},
   "outputs": [
    {
     "name": "stdout",
     "output_type": "stream",
     "text": [
      "this day they play inside the house \n",
      " i wo n't deny it , i 'm a straight rider \n",
      " i 'm a rider , say i 'm a rider \n",
      " cause this ai n't nothin' but a killa , yeah \n",
      " 1 bitch , i 'm 'bout to murder this bitch \n",
      " i 'm vibrating hustlin out the window \n",
      " yay i 'm a bitch , and i 'm a bitch ! bitch , i 'm a bitch ! \n",
      " bitch i 'm a been talkin ' this shit , bitch , i 'm livin ' bitch \n",
      " bitch i ’m ...\n"
     ]
    }
   ],
   "source": [
    "m=learner.model\n",
    "generate_text3(m, \"this day they play\", l=100)"
   ]
  },
  {
   "cell_type": "code",
   "execution_count": 64,
   "metadata": {},
   "outputs": [],
   "source": [
    "def generate_text3(m, s, l=20):\n",
    "    m[0].bs=1  # Set batch size to 1\n",
    "    m.eval()  # Turn off dropout\n",
    "    m.reset()  # Reset hidden state\n",
    "    m[0].bs=bs  # Put the batch size back to what it was\n",
    "\n",
    "    ss = s.lower().split()\n",
    "    si = [stoi[w] for w in ss]\n",
    "    t = torch.autograd.Variable(torch.cuda.LongTensor(np.array([si])))\n",
    "    \n",
    "    res,*_ = m(t)\n",
    "    \n",
    "    print(s, end=' ')\n",
    "    count = 0;\n",
    "    while true:\n",
    "        if np.random.choice([0,1], p=[0.2,0.8]) == 0:\n",
    "            n = res[-1].topk(5)[1]  # top word\n",
    "        else:\n",
    "            n = torch.multinomial(res[-1].exp(), 10)  # drawing from probability distribution\n",
    "        n = n[1] if n.data[0]==0 else n[0]\n",
    "        if itos[int(n)] == '\\n' and count > l:\n",
    "            print('')\n",
    "            break\n",
    "        if not any (x in itos[int(n)] for x in ['xbos', 'xfld']):\n",
    "            print(itos[int(n)], end=' ')\n",
    "        res,*_ = m(n.unsqueeze(0).unsqueeze(0))  # sometimes need an extra .unsqueeze(0)\n",
    "        count += 1\n",
    "    print('...')"
   ]
  },
  {
   "cell_type": "code",
   "execution_count": 62,
   "metadata": {},
   "outputs": [],
   "source": [
    "pickle.dump(itos, open(LM_PATH/'tmp'/'itos-large-chorus.pkl', 'wb'))"
   ]
  },
  {
   "cell_type": "code",
   "execution_count": null,
   "metadata": {},
   "outputs": [],
   "source": []
  }
 ],
 "metadata": {
  "kernelspec": {
   "display_name": "Python 3",
   "language": "python",
   "name": "python3"
  },
  "language_info": {
   "codemirror_mode": {
    "name": "ipython",
    "version": 3
   },
   "file_extension": ".py",
   "mimetype": "text/x-python",
   "name": "python",
   "nbconvert_exporter": "python",
   "pygments_lexer": "ipython3",
   "version": "3.6.8"
  }
 },
 "nbformat": 4,
 "nbformat_minor": 2
}
