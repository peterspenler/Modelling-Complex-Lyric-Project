{
 "cells": [
  {
   "cell_type": "code",
   "execution_count": 45,
   "metadata": {},
   "outputs": [
    {
     "data": {
      "text/plain": [
       "<spacy.lang.en.English at 0x7f7393d77e10>"
      ]
     },
     "execution_count": 45,
     "metadata": {},
     "output_type": "execute_result"
    }
   ],
   "source": [
    "from fastai_old.text import *\n",
    "import html\n",
    "import spacy \n",
    "\n",
    "spacy.load('en')"
   ]
  },
  {
   "cell_type": "code",
   "execution_count": 2,
   "metadata": {},
   "outputs": [],
   "source": [
    "num_verses = 3\n",
    "verses = []\n",
    "chorus = ''"
   ]
  },
  {
   "cell_type": "code",
   "execution_count": 3,
   "metadata": {},
   "outputs": [],
   "source": [
    "PATH=Path('data/')\n",
    "LM_PATH=Path('data/model_lm/')\n",
    "LM_PATH.mkdir(exist_ok=True)"
   ]
  },
  {
   "cell_type": "code",
   "execution_count": 18,
   "metadata": {},
   "outputs": [
    {
     "data": {
      "text/plain": [
       "(17190, 3642)"
      ]
     },
     "execution_count": 18,
     "metadata": {},
     "output_type": "execute_result"
    }
   ],
   "source": [
    "itosv = pickle.load(open(LM_PATH/'tmp'/'itos-large-verse.pkl', 'rb'))\n",
    "stoiv = collections.defaultdict(lambda:0, {v:k for k,v in enumerate(itosv)})\n",
    "itosc = pickle.load(open(LM_PATH/'tmp'/'itos-large-chorus.pkl', 'rb'))\n",
    "stoic = collections.defaultdict(lambda:0, {v:k for k,v in enumerate(itosc)})\n",
    "vsv=len(itosv)\n",
    "vsc=len(itosc)\n",
    "vsv, vsc"
   ]
  },
  {
   "cell_type": "code",
   "execution_count": 19,
   "metadata": {},
   "outputs": [],
   "source": [
    "trn_lm = np.empty([10,2])\n",
    "val_lm = np.empty([10,2])"
   ]
  },
  {
   "cell_type": "code",
   "execution_count": 20,
   "metadata": {},
   "outputs": [
    {
     "name": "stdout",
     "output_type": "stream",
     "text": [
      "DATA: 0 70\n",
      "DATA: 0 70\n"
     ]
    }
   ],
   "source": [
    "em_sz,nh,nl = 400,1150,3\n",
    "drops = np.array([0.25, 0.1, 0.2, 0.02, 0.15])*0.7\n",
    "wd=1e-7\n",
    "bptt=70\n",
    "bs=52\n",
    "opt_fn = partial(optim.Adam, betas=(0.8, 0.99))\n",
    "trn_dl = LanguageModelLoader(np.concatenate(trn_lm), bs, bptt)\n",
    "val_dl = LanguageModelLoader(np.concatenate(val_lm), bs, bptt)\n",
    "mdv = LanguageModelData(PATH, 1, vsv, trn_dl, val_dl, bs=bs, bptt=bptt)\n",
    "mdc = LanguageModelData(PATH, 1, vsc, trn_dl, val_dl, bs=bs, bptt=bptt)"
   ]
  },
  {
   "cell_type": "code",
   "execution_count": 21,
   "metadata": {},
   "outputs": [
    {
     "name": "stdout",
     "output_type": "stream",
     "text": [
      "INIT <fastai_old.text.LanguageModelData object at 0x7f7393f677f0>\n",
      "INIT <fastai_old.text.LanguageModelData object at 0x7f7393f67780>\n"
     ]
    }
   ],
   "source": [
    "learnerv= mdv.get_model(opt_fn, em_sz, nh, nl, \n",
    "    dropouti=drops[0], dropout=drops[1], wdrop=drops[2], dropoute=drops[3], dropouth=drops[4])\n",
    "\n",
    "learnerc= mdc.get_model(opt_fn, em_sz, nh, nl, \n",
    "    dropouti=drops[0], dropout=drops[1], wdrop=drops[2], dropoute=drops[3], dropouth=drops[4])\n",
    "\n",
    "#learner.model.load_state_dict(wgts)"
   ]
  },
  {
   "cell_type": "code",
   "execution_count": 9,
   "metadata": {},
   "outputs": [],
   "source": [
    "def generate_text_verse(m, s, itos, stoi, l=20):\n",
    "    m[0].bs=1  # Set batch size to 1\n",
    "    m.eval()  # Turn off dropout\n",
    "    m.reset()  # Reset hidden state\n",
    "    m[0].bs=bs  # Put the batch size back to what it was\n",
    "\n",
    "    ss = s.lower().split()\n",
    "    si = [stoi[w] for w in ss]\n",
    "    t = torch.autograd.Variable(torch.cuda.LongTensor(np.array([si])))\n",
    "    \n",
    "    res,*_ = m(t)\n",
    "    \n",
    "    output = s + ' '\n",
    "    count = 0\n",
    "    while True:\n",
    "        #n = res[-1].topk(5)[1]  # top word\n",
    "        n = torch.multinomial(res[-1].exp(), 10)  # drawing from probability distribution\n",
    "        n = n[1] if n.data[0]==0 else n[0]\n",
    "        if itos[int(n)] == '\\n' and count > l:\n",
    "            output += \"\\n\"\n",
    "            break\n",
    "        if not any (x in itos[int(n)] for x in ['xbos', 'xfld']):\n",
    "            output += itos[int(n)] + ' '\n",
    "        res,*_ = m(n.unsqueeze(0).unsqueeze(0))  # sometimes need an extra .unsqueeze(0)\n",
    "        count += 1\n",
    "    return output"
   ]
  },
  {
   "cell_type": "code",
   "execution_count": 22,
   "metadata": {},
   "outputs": [],
   "source": [
    "learnerv.load('lm_30epochs-large-verse-set')\n",
    "learnerc.load('lm_30epochs-large-chorus')\n",
    "m=learnerv.model\n",
    "for i in range(num_verses):\n",
    "    verses.append(generate_text_verse(m, \"this is the way I\", itosv, stoiv, l=150))\n",
    "\n",
    "m=learnerc.model\n",
    "chorus = generate_text_verse(m, \"this is the way I\", itosc, stoic, l=100)"
   ]
  },
  {
   "cell_type": "code",
   "execution_count": 43,
   "metadata": {},
   "outputs": [],
   "source": [
    "def clean_output(x):\n",
    "    return x.replace(\" n't\", \"n't\").replace(\" ' til\", \"@'til\").replace(\" ' cause\", \"@'cause\").replace(\n",
    "        \" '\", \"'\").replace(\"@'til\", \" 'til\").replace(\"@'cause\", \" 'cause\").replace(\" ,\", \",\")"
   ]
  },
  {
   "cell_type": "code",
   "execution_count": 44,
   "metadata": {},
   "outputs": [
    {
     "name": "stdout",
     "output_type": "stream",
     "text": [
      "[Intro]\n",
      "\n",
      "[Verse 1]\n",
      "this is the way I might go ape - baskets \n",
      " from puerto rico to that chaining question \n",
      " nowadays these hoes is imaginary \n",
      " it's so much money that these haters couldn't even cross me \n",
      " we had to pay the rent to keep my arm dry \n",
      " them bitches can no longer brag, now my niggas flyin \n",
      " counting a gras 'til they just get to tez \n",
      " sean don, kobe bryant fiends \n",
      " crap tables and it's all black, they don't want a crap \n",
      " next time they see me they wanna beg me for they freaking ting \n",
      " but wouldn't it be a comeback if i didn't list you \n",
      " if you did what it did, what would you do if you knew me ? \n",
      " 1 i'm peepin' out all these halfway hoes \n",
      " but it don't matter, i'm just on the pager \n",
      "\n",
      "\n",
      "[Chorus]\n",
      "this is the way I swear to god, hail mary \n",
      " i'll be your savior, oh god, oh mama \n",
      " 1 all my niggas - what it feel like ? ( oh ! ) \n",
      " have ya dead or gone ( ah ! ) \n",
      " have my bitch, dope - oh, my nigga get ( yo ! ) \n",
      " tell my girlfriend, my bitch ! ( oh ! ) \n",
      " ( oh, ya smile ! ) \n",
      " do nt go against me \n",
      " ( come on put that on my son ) \n",
      " busters, my niggas, my niggas can't control me \n",
      "\n",
      "\n",
      "[Verse 2]\n",
      "this is the way I bruise it's a tragedy \n",
      " ten years ago and you was stuck on inside \n",
      " patiently searchin', working and grinding and showing a reason to die \n",
      " actin' like you've got ta nowhere but patience \n",
      " needed protection from rattlesnakes \n",
      " steady slip, awake and sniff some pussy \n",
      " wanna open up my mind up, where's the travolta's jerk ? \n",
      " shit you don't got ta think, some of your shit was pissy \n",
      " sweating me up,'cause my mouth is sweating crack and scream \n",
      " 1 born and raised in the t_up usa \n",
      " by way of new orleans where the killers stay \n",
      " when i was young my daddy was young pretty raw \n",
      " home of the original gang, yeah we went to the milly \n",
      " did red beam cuz i time it, yeah, twenty - five \n",
      "\n",
      "\n",
      "[Chorus]\n",
      "this is the way I swear to god, hail mary \n",
      " i'll be your savior, oh god, oh mama \n",
      " 1 all my niggas - what it feel like ? ( oh ! ) \n",
      " have ya dead or gone ( ah ! ) \n",
      " have my bitch, dope - oh, my nigga get ( yo ! ) \n",
      " tell my girlfriend, my bitch ! ( oh ! ) \n",
      " ( oh, ya smile ! ) \n",
      " do nt go against me \n",
      " ( come on put that on my son ) \n",
      " busters, my niggas, my niggas can't control me \n",
      "\n",
      "\n",
      "[Verse 3]\n",
      "this is the way I came to life as a ridah be \n",
      " everyday nt mean shots with the sirens \n",
      " they tried to buck me \n",
      " and they tried to cut the lights off \n",
      " fresh away a hundred men, they're relaxing, demonic \n",
      " idolize my vocals \n",
      " got so excited with my record sales \n",
      "  t_up xxl was like asking if i wasn't faking it \n",
      " time is replenish, finish is finished \n",
      " rhymes is deeper than basic \n",
      " pens and burners listening to the radio \n",
      " some say the body ain't edible, if not we say it so well \n",
      " if i don't teach, then i won't add it \n",
      " wrists full of fake joints, now i'm writing love moves \n",
      " let's just say the's something i love more than one verse \n",
      " 1 i let off, now i got ta live \n",
      "\n",
      "\n",
      "[Chorus]\n",
      "this is the way I swear to god, hail mary \n",
      " i'll be your savior, oh god, oh mama \n",
      " 1 all my niggas - what it feel like ? ( oh ! ) \n",
      " have ya dead or gone ( ah ! ) \n",
      " have my bitch, dope - oh, my nigga get ( yo ! ) \n",
      " tell my girlfriend, my bitch ! ( oh ! ) \n",
      " ( oh, ya smile ! ) \n",
      " do nt go against me \n",
      " ( come on put that on my son ) \n",
      " busters, my niggas, my niggas can't control me \n",
      "\n"
     ]
    }
   ],
   "source": [
    "print('[Intro]')\n",
    "for i in range(num_verses):\n",
    "    print('\\n[Verse ' + str(i + 1) + ']')\n",
    "    print(clean_output(verses[i]))\n",
    "    print('\\n[Chorus]')\n",
    "    print(clean_output(chorus))"
   ]
  },
  {
   "cell_type": "code",
   "execution_count": null,
   "metadata": {},
   "outputs": [],
   "source": []
  }
 ],
 "metadata": {
  "kernelspec": {
   "display_name": "Python 3",
   "language": "python",
   "name": "python3"
  },
  "language_info": {
   "codemirror_mode": {
    "name": "ipython",
    "version": 3
   },
   "file_extension": ".py",
   "mimetype": "text/x-python",
   "name": "python",
   "nbconvert_exporter": "python",
   "pygments_lexer": "ipython3",
   "version": "3.6.8"
  }
 },
 "nbformat": 4,
 "nbformat_minor": 2
}
